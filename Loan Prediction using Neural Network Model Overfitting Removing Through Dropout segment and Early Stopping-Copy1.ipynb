{
 "cells": [
  {
   "cell_type": "code",
   "execution_count": 2,
   "id": "20dac33c",
   "metadata": {},
   "outputs": [],
   "source": [
    "from warnings import filterwarnings\n",
    "filterwarnings(\"ignore\")"
   ]
  },
  {
   "cell_type": "markdown",
   "id": "48486205",
   "metadata": {},
   "source": [
    "# Read the Dataset"
   ]
  },
  {
   "cell_type": "code",
   "execution_count": 12,
   "id": "069b20b4",
   "metadata": {},
   "outputs": [],
   "source": [
    "import pandas as pd\n",
    "A = pd.read_csv(\"C:/Users/Audi/Downloads/Loan_training_set.csv\")"
   ]
  },
  {
   "cell_type": "code",
   "execution_count": 13,
   "id": "bdfaed13",
   "metadata": {},
   "outputs": [
    {
     "data": {
      "text/html": [
       "<div>\n",
       "<style scoped>\n",
       "    .dataframe tbody tr th:only-of-type {\n",
       "        vertical-align: middle;\n",
       "    }\n",
       "\n",
       "    .dataframe tbody tr th {\n",
       "        vertical-align: top;\n",
       "    }\n",
       "\n",
       "    .dataframe thead th {\n",
       "        text-align: right;\n",
       "    }\n",
       "</style>\n",
       "<table border=\"1\" class=\"dataframe\">\n",
       "  <thead>\n",
       "    <tr style=\"text-align: right;\">\n",
       "      <th></th>\n",
       "      <th>Loan_ID</th>\n",
       "      <th>Gender</th>\n",
       "      <th>Married</th>\n",
       "      <th>Dependents</th>\n",
       "      <th>Education</th>\n",
       "      <th>Self_Employed</th>\n",
       "      <th>ApplicantIncome</th>\n",
       "      <th>CoapplicantIncome</th>\n",
       "      <th>LoanAmount</th>\n",
       "      <th>Loan_Amount_Term</th>\n",
       "      <th>Credit_History</th>\n",
       "      <th>Property_Area</th>\n",
       "      <th>Loan_Status</th>\n",
       "    </tr>\n",
       "  </thead>\n",
       "  <tbody>\n",
       "    <tr>\n",
       "      <th>0</th>\n",
       "      <td>LP001002</td>\n",
       "      <td>Male</td>\n",
       "      <td>No</td>\n",
       "      <td>0</td>\n",
       "      <td>Graduate</td>\n",
       "      <td>No</td>\n",
       "      <td>5849.0</td>\n",
       "      <td>0.0</td>\n",
       "      <td>NaN</td>\n",
       "      <td>360.0</td>\n",
       "      <td>1.0</td>\n",
       "      <td>Urban</td>\n",
       "      <td>Y</td>\n",
       "    </tr>\n",
       "    <tr>\n",
       "      <th>1</th>\n",
       "      <td>LP001003</td>\n",
       "      <td>Male</td>\n",
       "      <td>Yes</td>\n",
       "      <td>1</td>\n",
       "      <td>Graduate</td>\n",
       "      <td>No</td>\n",
       "      <td>NaN</td>\n",
       "      <td>1508.0</td>\n",
       "      <td>128.0</td>\n",
       "      <td>360.0</td>\n",
       "      <td>1.0</td>\n",
       "      <td>Rural</td>\n",
       "      <td>N</td>\n",
       "    </tr>\n",
       "    <tr>\n",
       "      <th>2</th>\n",
       "      <td>LP001005</td>\n",
       "      <td>Male</td>\n",
       "      <td>Yes</td>\n",
       "      <td>0</td>\n",
       "      <td>Graduate</td>\n",
       "      <td>Yes</td>\n",
       "      <td>3000.0</td>\n",
       "      <td>0.0</td>\n",
       "      <td>66.0</td>\n",
       "      <td>360.0</td>\n",
       "      <td>1.0</td>\n",
       "      <td>Urban</td>\n",
       "      <td>Y</td>\n",
       "    </tr>\n",
       "    <tr>\n",
       "      <th>3</th>\n",
       "      <td>LP001006</td>\n",
       "      <td>Male</td>\n",
       "      <td>Yes</td>\n",
       "      <td>0</td>\n",
       "      <td>Not Graduate</td>\n",
       "      <td>No</td>\n",
       "      <td>2583.0</td>\n",
       "      <td>2358.0</td>\n",
       "      <td>120.0</td>\n",
       "      <td>360.0</td>\n",
       "      <td>1.0</td>\n",
       "      <td>Urban</td>\n",
       "      <td>Y</td>\n",
       "    </tr>\n",
       "    <tr>\n",
       "      <th>4</th>\n",
       "      <td>LP001008</td>\n",
       "      <td>Male</td>\n",
       "      <td>No</td>\n",
       "      <td>0</td>\n",
       "      <td>Graduate</td>\n",
       "      <td>No</td>\n",
       "      <td>6000.0</td>\n",
       "      <td>0.0</td>\n",
       "      <td>141.0</td>\n",
       "      <td>360.0</td>\n",
       "      <td>1.0</td>\n",
       "      <td>Urban</td>\n",
       "      <td>Y</td>\n",
       "    </tr>\n",
       "  </tbody>\n",
       "</table>\n",
       "</div>"
      ],
      "text/plain": [
       "    Loan_ID Gender Married Dependents     Education Self_Employed  \\\n",
       "0  LP001002   Male      No          0      Graduate            No   \n",
       "1  LP001003   Male     Yes          1      Graduate            No   \n",
       "2  LP001005   Male     Yes          0      Graduate           Yes   \n",
       "3  LP001006   Male     Yes          0  Not Graduate            No   \n",
       "4  LP001008   Male      No          0      Graduate            No   \n",
       "\n",
       "   ApplicantIncome  CoapplicantIncome  LoanAmount  Loan_Amount_Term  \\\n",
       "0           5849.0                0.0         NaN             360.0   \n",
       "1              NaN             1508.0       128.0             360.0   \n",
       "2           3000.0                0.0        66.0             360.0   \n",
       "3           2583.0             2358.0       120.0             360.0   \n",
       "4           6000.0                0.0       141.0             360.0   \n",
       "\n",
       "   Credit_History Property_Area Loan_Status  \n",
       "0             1.0         Urban           Y  \n",
       "1             1.0         Rural           N  \n",
       "2             1.0         Urban           Y  \n",
       "3             1.0         Urban           Y  \n",
       "4             1.0         Urban           Y  "
      ]
     },
     "execution_count": 13,
     "metadata": {},
     "output_type": "execute_result"
    }
   ],
   "source": [
    "A.head()"
   ]
  },
  {
   "cell_type": "markdown",
   "id": "7d32a99a",
   "metadata": {},
   "source": [
    "# Missing Data Treatment"
   ]
  },
  {
   "cell_type": "code",
   "execution_count": 15,
   "id": "6f03d048",
   "metadata": {},
   "outputs": [
    {
     "data": {
      "text/plain": [
       "Loan_ID               0\n",
       "Gender               15\n",
       "Married               3\n",
       "Dependents           15\n",
       "Education             1\n",
       "Self_Employed        32\n",
       "ApplicantIncome       2\n",
       "CoapplicantIncome     1\n",
       "LoanAmount           22\n",
       "Loan_Amount_Term     14\n",
       "Credit_History       50\n",
       "Property_Area         0\n",
       "Loan_Status           0\n",
       "dtype: int64"
      ]
     },
     "execution_count": 15,
     "metadata": {},
     "output_type": "execute_result"
    }
   ],
   "source": [
    "A.isnull().sum()"
   ]
  },
  {
   "cell_type": "code",
   "execution_count": 16,
   "id": "f5a41046",
   "metadata": {},
   "outputs": [],
   "source": [
    "from Preprocessing_Audi import replacer\n",
    "replacer(A)"
   ]
  },
  {
   "cell_type": "code",
   "execution_count": 17,
   "id": "c6336664",
   "metadata": {},
   "outputs": [
    {
     "data": {
      "text/plain": [
       "Loan_ID              0\n",
       "Gender               0\n",
       "Married              0\n",
       "Dependents           0\n",
       "Education            0\n",
       "Self_Employed        0\n",
       "ApplicantIncome      0\n",
       "CoapplicantIncome    0\n",
       "LoanAmount           0\n",
       "Loan_Amount_Term     0\n",
       "Credit_History       0\n",
       "Property_Area        0\n",
       "Loan_Status          0\n",
       "dtype: int64"
      ]
     },
     "execution_count": 17,
     "metadata": {},
     "output_type": "execute_result"
    }
   ],
   "source": [
    "A.isna().sum()"
   ]
  },
  {
   "cell_type": "markdown",
   "id": "c81f929e",
   "metadata": {},
   "source": [
    "# Drop unwanted columns"
   ]
  },
  {
   "cell_type": "code",
   "execution_count": 18,
   "id": "26c53ff3",
   "metadata": {},
   "outputs": [],
   "source": [
    "B= A.drop(labels=[\"Loan_ID\"],axis=1)"
   ]
  },
  {
   "cell_type": "markdown",
   "id": "4eb4b181",
   "metadata": {},
   "source": [
    "# Define the X & Y column"
   ]
  },
  {
   "cell_type": "code",
   "execution_count": 19,
   "id": "d9a99fb4",
   "metadata": {},
   "outputs": [],
   "source": [
    "Y = B[[\"Loan_Status\"]]\n",
    "X = B.drop(labels=[\"Loan_Status\"],axis=1)"
   ]
  },
  {
   "cell_type": "markdown",
   "id": "263a30d0",
   "metadata": {},
   "source": [
    "# Y Column is in Yes|No format so we need to conver this to a label encoded format 0|1"
   ]
  },
  {
   "cell_type": "code",
   "execution_count": 20,
   "id": "d33b4c3b",
   "metadata": {},
   "outputs": [],
   "source": [
    "from sklearn.preprocessing import LabelEncoder\n",
    "le = LabelEncoder()\n",
    "Ynew = pd.DataFrame(le.fit_transform(Y),columns=[\"Loan_Status\"])"
   ]
  },
  {
   "cell_type": "markdown",
   "id": "1d31f5d9",
   "metadata": {},
   "source": [
    "# Preprocessing"
   ]
  },
  {
   "cell_type": "code",
   "execution_count": 21,
   "id": "fa70c58a",
   "metadata": {},
   "outputs": [],
   "source": [
    "from Preprocessing_Audi import preprocessing "
   ]
  },
  {
   "cell_type": "code",
   "execution_count": 23,
   "id": "43658072",
   "metadata": {},
   "outputs": [],
   "source": [
    "Xnew = preprocessing(X)"
   ]
  },
  {
   "cell_type": "markdown",
   "id": "0691e970",
   "metadata": {},
   "source": [
    "# Divide Data into training and validation set"
   ]
  },
  {
   "cell_type": "code",
   "execution_count": 36,
   "id": "f2a4c9b4",
   "metadata": {},
   "outputs": [],
   "source": [
    "from sklearn.model_selection import train_test_split\n",
    "xtrain,xtest,ytrain,ytest=train_test_split(Xnew,Ynew,test_size=0.2,random_state=22)"
   ]
  },
  {
   "cell_type": "markdown",
   "id": "3f5f79ba",
   "metadata": {},
   "source": [
    "# Check the shape of Xnew so we can get the column count of Xnew"
   ]
  },
  {
   "cell_type": "code",
   "execution_count": 37,
   "id": "fba204d2",
   "metadata": {},
   "outputs": [
    {
     "data": {
      "text/plain": [
       "(614, 20)"
      ]
     },
     "execution_count": 37,
     "metadata": {},
     "output_type": "execute_result"
    }
   ],
   "source": [
    "Xnew.shape"
   ]
  },
  {
   "cell_type": "markdown",
   "id": "6ee39458",
   "metadata": {},
   "source": [
    "# Create Normal Neuiral Newtwork Madel"
   ]
  },
  {
   "cell_type": "code",
   "execution_count": 38,
   "id": "af86f890",
   "metadata": {},
   "outputs": [],
   "source": [
    "from keras.layers import Dense,Dropout\n",
    "from keras.models import Sequential"
   ]
  },
  {
   "cell_type": "code",
   "execution_count": 39,
   "id": "c62a52eb",
   "metadata": {},
   "outputs": [],
   "source": [
    "nn= Sequential()\n",
    "nn.add(Dense(200,input_dim=(20)))\n",
    "nn.add(Dense(200))\n",
    "nn.add(Dense(200))\n",
    "nn.add(Dense(1,activation=\"sigmoid\"))"
   ]
  },
  {
   "cell_type": "code",
   "execution_count": 40,
   "id": "9afd203a",
   "metadata": {},
   "outputs": [],
   "source": [
    "nn.compile(loss = \"binary_crossentropy\",metrics=[\"accuracy\"])"
   ]
  },
  {
   "cell_type": "code",
   "execution_count": 41,
   "id": "6ccca709",
   "metadata": {},
   "outputs": [
    {
     "name": "stdout",
     "output_type": "stream",
     "text": [
      "Epoch 1/100\n",
      "13/13 [==============================] - 1s 51ms/step - loss: 0.5799 - accuracy: 0.7679 - val_loss: 0.4222 - val_accuracy: 0.8485\n",
      "Epoch 2/100\n",
      "13/13 [==============================] - 0s 9ms/step - loss: 0.5154 - accuracy: 0.7908 - val_loss: 0.4867 - val_accuracy: 0.7879\n",
      "Epoch 3/100\n",
      "13/13 [==============================] - 0s 10ms/step - loss: 0.5322 - accuracy: 0.7832 - val_loss: 0.4902 - val_accuracy: 0.8081\n",
      "Epoch 4/100\n",
      "13/13 [==============================] - 0s 9ms/step - loss: 0.5129 - accuracy: 0.7704 - val_loss: 0.5125 - val_accuracy: 0.7677\n",
      "Epoch 5/100\n",
      "13/13 [==============================] - 0s 6ms/step - loss: 0.5196 - accuracy: 0.7806 - val_loss: 0.4476 - val_accuracy: 0.8485\n",
      "Epoch 6/100\n",
      "13/13 [==============================] - 0s 10ms/step - loss: 0.5021 - accuracy: 0.7806 - val_loss: 0.4562 - val_accuracy: 0.8485\n",
      "Epoch 7/100\n",
      "13/13 [==============================] - 0s 8ms/step - loss: 0.5179 - accuracy: 0.7883 - val_loss: 0.4366 - val_accuracy: 0.8485\n",
      "Epoch 8/100\n",
      "13/13 [==============================] - 0s 10ms/step - loss: 0.5000 - accuracy: 0.7908 - val_loss: 0.4501 - val_accuracy: 0.8384\n",
      "Epoch 9/100\n",
      "13/13 [==============================] - 0s 8ms/step - loss: 0.5069 - accuracy: 0.7883 - val_loss: 0.4373 - val_accuracy: 0.8283\n",
      "Epoch 10/100\n",
      "13/13 [==============================] - 0s 7ms/step - loss: 0.4959 - accuracy: 0.7857 - val_loss: 0.4544 - val_accuracy: 0.8384\n",
      "Epoch 11/100\n",
      "13/13 [==============================] - 0s 10ms/step - loss: 0.4965 - accuracy: 0.7934 - val_loss: 0.4872 - val_accuracy: 0.8485\n",
      "Epoch 12/100\n",
      "13/13 [==============================] - 0s 10ms/step - loss: 0.4968 - accuracy: 0.7934 - val_loss: 0.5036 - val_accuracy: 0.8283\n",
      "Epoch 13/100\n",
      "13/13 [==============================] - 0s 8ms/step - loss: 0.4925 - accuracy: 0.8061 - val_loss: 0.4354 - val_accuracy: 0.8485\n",
      "Epoch 14/100\n",
      "13/13 [==============================] - 0s 10ms/step - loss: 0.5010 - accuracy: 0.7883 - val_loss: 0.4723 - val_accuracy: 0.8283\n",
      "Epoch 15/100\n",
      "13/13 [==============================] - ETA: 0s - loss: 0.4903 - accuracy: 0.78 - 0s 9ms/step - loss: 0.4924 - accuracy: 0.7883 - val_loss: 0.4255 - val_accuracy: 0.8485\n",
      "Epoch 16/100\n",
      "13/13 [==============================] - 0s 10ms/step - loss: 0.4986 - accuracy: 0.7959 - val_loss: 0.5128 - val_accuracy: 0.7576\n",
      "Epoch 17/100\n",
      "13/13 [==============================] - 0s 11ms/step - loss: 0.4964 - accuracy: 0.7806 - val_loss: 0.4452 - val_accuracy: 0.8283\n",
      "Epoch 18/100\n",
      "13/13 [==============================] - 0s 13ms/step - loss: 0.4997 - accuracy: 0.8061 - val_loss: 0.4516 - val_accuracy: 0.8283\n",
      "Epoch 19/100\n",
      "13/13 [==============================] - 0s 11ms/step - loss: 0.4856 - accuracy: 0.7934 - val_loss: 0.5370 - val_accuracy: 0.7475\n",
      "Epoch 20/100\n",
      "13/13 [==============================] - 0s 10ms/step - loss: 0.4856 - accuracy: 0.7781 - val_loss: 0.4961 - val_accuracy: 0.8485\n",
      "Epoch 21/100\n",
      "13/13 [==============================] - 0s 9ms/step - loss: 0.5039 - accuracy: 0.7934 - val_loss: 0.4827 - val_accuracy: 0.7879\n",
      "Epoch 22/100\n",
      "13/13 [==============================] - 0s 10ms/step - loss: 0.4927 - accuracy: 0.7985 - val_loss: 0.4786 - val_accuracy: 0.8182\n",
      "Epoch 23/100\n",
      "13/13 [==============================] - 0s 8ms/step - loss: 0.4899 - accuracy: 0.7959 - val_loss: 0.4451 - val_accuracy: 0.8485\n",
      "Epoch 24/100\n",
      "13/13 [==============================] - 0s 10ms/step - loss: 0.4916 - accuracy: 0.7883 - val_loss: 0.4302 - val_accuracy: 0.8485\n",
      "Epoch 25/100\n",
      "13/13 [==============================] - 0s 10ms/step - loss: 0.4900 - accuracy: 0.7883 - val_loss: 0.4555 - val_accuracy: 0.8485\n",
      "Epoch 26/100\n",
      "13/13 [==============================] - 0s 13ms/step - loss: 0.4925 - accuracy: 0.7934 - val_loss: 0.4920 - val_accuracy: 0.8081\n",
      "Epoch 27/100\n",
      "13/13 [==============================] - 0s 9ms/step - loss: 0.4896 - accuracy: 0.7908 - val_loss: 0.4407 - val_accuracy: 0.8485\n",
      "Epoch 28/100\n",
      "13/13 [==============================] - 0s 9ms/step - loss: 0.4940 - accuracy: 0.7934 - val_loss: 0.4747 - val_accuracy: 0.8182\n",
      "Epoch 29/100\n",
      "13/13 [==============================] - 0s 8ms/step - loss: 0.4895 - accuracy: 0.7959 - val_loss: 0.4308 - val_accuracy: 0.8485\n",
      "Epoch 30/100\n",
      "13/13 [==============================] - 0s 6ms/step - loss: 0.4848 - accuracy: 0.7959 - val_loss: 0.4496 - val_accuracy: 0.8485\n",
      "Epoch 31/100\n",
      "13/13 [==============================] - 0s 8ms/step - loss: 0.4972 - accuracy: 0.7832 - val_loss: 0.4305 - val_accuracy: 0.8384\n",
      "Epoch 32/100\n",
      "13/13 [==============================] - ETA: 0s - loss: 0.4788 - accuracy: 0.81 - 0s 11ms/step - loss: 0.4890 - accuracy: 0.7959 - val_loss: 0.5065 - val_accuracy: 0.7576\n",
      "Epoch 33/100\n",
      "13/13 [==============================] - 0s 8ms/step - loss: 0.4893 - accuracy: 0.7806 - val_loss: 0.4549 - val_accuracy: 0.8485\n",
      "Epoch 34/100\n",
      "13/13 [==============================] - 0s 9ms/step - loss: 0.4865 - accuracy: 0.8036 - val_loss: 0.4638 - val_accuracy: 0.8283\n",
      "Epoch 35/100\n",
      "13/13 [==============================] - 0s 8ms/step - loss: 0.4852 - accuracy: 0.7985 - val_loss: 0.4971 - val_accuracy: 0.8182\n",
      "Epoch 36/100\n",
      "13/13 [==============================] - 0s 11ms/step - loss: 0.4888 - accuracy: 0.7934 - val_loss: 0.4671 - val_accuracy: 0.8485\n",
      "Epoch 37/100\n",
      "13/13 [==============================] - 0s 9ms/step - loss: 0.4884 - accuracy: 0.8036 - val_loss: 0.4521 - val_accuracy: 0.8485\n",
      "Epoch 38/100\n",
      "13/13 [==============================] - 0s 6ms/step - loss: 0.4826 - accuracy: 0.7959 - val_loss: 0.4589 - val_accuracy: 0.8283\n",
      "Epoch 39/100\n",
      "13/13 [==============================] - 0s 6ms/step - loss: 0.4880 - accuracy: 0.8036 - val_loss: 0.4638 - val_accuracy: 0.8283\n",
      "Epoch 40/100\n",
      "13/13 [==============================] - 0s 7ms/step - loss: 0.4884 - accuracy: 0.7985 - val_loss: 0.4535 - val_accuracy: 0.8485\n",
      "Epoch 41/100\n",
      "13/13 [==============================] - 0s 7ms/step - loss: 0.4866 - accuracy: 0.8036 - val_loss: 0.4534 - val_accuracy: 0.8283\n",
      "Epoch 42/100\n",
      "13/13 [==============================] - 0s 6ms/step - loss: 0.4826 - accuracy: 0.7985 - val_loss: 0.4449 - val_accuracy: 0.8384\n",
      "Epoch 43/100\n",
      "13/13 [==============================] - 0s 9ms/step - loss: 0.4876 - accuracy: 0.7985 - val_loss: 0.4589 - val_accuracy: 0.8182\n",
      "Epoch 44/100\n",
      "13/13 [==============================] - 0s 9ms/step - loss: 0.4872 - accuracy: 0.7934 - val_loss: 0.4439 - val_accuracy: 0.8485\n",
      "Epoch 45/100\n",
      "13/13 [==============================] - 0s 9ms/step - loss: 0.4857 - accuracy: 0.7985 - val_loss: 0.4448 - val_accuracy: 0.8485\n",
      "Epoch 46/100\n",
      "13/13 [==============================] - 0s 9ms/step - loss: 0.4829 - accuracy: 0.8036 - val_loss: 0.4372 - val_accuracy: 0.8384\n",
      "Epoch 47/100\n",
      "13/13 [==============================] - 0s 9ms/step - loss: 0.4827 - accuracy: 0.7959 - val_loss: 0.4469 - val_accuracy: 0.8384\n",
      "Epoch 48/100\n",
      "13/13 [==============================] - 0s 9ms/step - loss: 0.4784 - accuracy: 0.7857 - val_loss: 0.4601 - val_accuracy: 0.8485\n",
      "Epoch 49/100\n",
      "13/13 [==============================] - 0s 9ms/step - loss: 0.4804 - accuracy: 0.7959 - val_loss: 0.4320 - val_accuracy: 0.8384\n",
      "Epoch 50/100\n",
      "13/13 [==============================] - 0s 8ms/step - loss: 0.4853 - accuracy: 0.7959 - val_loss: 0.4538 - val_accuracy: 0.8485\n",
      "Epoch 51/100\n",
      "13/13 [==============================] - 0s 10ms/step - loss: 0.4837 - accuracy: 0.8010 - val_loss: 0.4423 - val_accuracy: 0.8485\n",
      "Epoch 52/100\n",
      "13/13 [==============================] - 0s 7ms/step - loss: 0.4800 - accuracy: 0.7959 - val_loss: 0.4624 - val_accuracy: 0.8283\n",
      "Epoch 53/100\n",
      "13/13 [==============================] - 0s 11ms/step - loss: 0.4819 - accuracy: 0.7908 - val_loss: 0.4601 - val_accuracy: 0.8182\n",
      "Epoch 54/100\n",
      "13/13 [==============================] - 0s 8ms/step - loss: 0.4802 - accuracy: 0.7959 - val_loss: 0.4578 - val_accuracy: 0.8485\n",
      "Epoch 55/100\n",
      "13/13 [==============================] - 0s 5ms/step - loss: 0.4821 - accuracy: 0.8036 - val_loss: 0.4596 - val_accuracy: 0.8384\n",
      "Epoch 56/100\n",
      "13/13 [==============================] - 0s 6ms/step - loss: 0.4814 - accuracy: 0.7985 - val_loss: 0.4402 - val_accuracy: 0.8485\n",
      "Epoch 57/100\n",
      "13/13 [==============================] - 0s 5ms/step - loss: 0.4818 - accuracy: 0.7985 - val_loss: 0.4663 - val_accuracy: 0.8081\n",
      "Epoch 58/100\n"
     ]
    },
    {
     "name": "stdout",
     "output_type": "stream",
     "text": [
      "13/13 [==============================] - 0s 6ms/step - loss: 0.4819 - accuracy: 0.7985 - val_loss: 0.4517 - val_accuracy: 0.8384\n",
      "Epoch 59/100\n",
      "13/13 [==============================] - 0s 6ms/step - loss: 0.4868 - accuracy: 0.7985 - val_loss: 0.4493 - val_accuracy: 0.8384\n",
      "Epoch 60/100\n",
      "13/13 [==============================] - 0s 6ms/step - loss: 0.4782 - accuracy: 0.8010 - val_loss: 0.4367 - val_accuracy: 0.8485\n",
      "Epoch 61/100\n",
      "13/13 [==============================] - 0s 9ms/step - loss: 0.4799 - accuracy: 0.7985 - val_loss: 0.4544 - val_accuracy: 0.8485\n",
      "Epoch 62/100\n",
      "13/13 [==============================] - 0s 6ms/step - loss: 0.4833 - accuracy: 0.8010 - val_loss: 0.4488 - val_accuracy: 0.8283\n",
      "Epoch 63/100\n",
      "13/13 [==============================] - 0s 8ms/step - loss: 0.4802 - accuracy: 0.8010 - val_loss: 0.4480 - val_accuracy: 0.8283\n",
      "Epoch 64/100\n",
      "13/13 [==============================] - 0s 9ms/step - loss: 0.4799 - accuracy: 0.7959 - val_loss: 0.4609 - val_accuracy: 0.7980\n",
      "Epoch 65/100\n",
      "13/13 [==============================] - 0s 6ms/step - loss: 0.4785 - accuracy: 0.8036 - val_loss: 0.4572 - val_accuracy: 0.8384\n",
      "Epoch 66/100\n",
      "13/13 [==============================] - 0s 5ms/step - loss: 0.4789 - accuracy: 0.7985 - val_loss: 0.4516 - val_accuracy: 0.8384\n",
      "Epoch 67/100\n",
      "13/13 [==============================] - 0s 5ms/step - loss: 0.4820 - accuracy: 0.7959 - val_loss: 0.4570 - val_accuracy: 0.8384\n",
      "Epoch 68/100\n",
      "13/13 [==============================] - 0s 7ms/step - loss: 0.4799 - accuracy: 0.7959 - val_loss: 0.4636 - val_accuracy: 0.8283\n",
      "Epoch 69/100\n",
      "13/13 [==============================] - 0s 8ms/step - loss: 0.4785 - accuracy: 0.7959 - val_loss: 0.4515 - val_accuracy: 0.8283\n",
      "Epoch 70/100\n",
      "13/13 [==============================] - 0s 8ms/step - loss: 0.4834 - accuracy: 0.7985 - val_loss: 0.4491 - val_accuracy: 0.8485\n",
      "Epoch 71/100\n",
      "13/13 [==============================] - 0s 6ms/step - loss: 0.4827 - accuracy: 0.7934 - val_loss: 0.4549 - val_accuracy: 0.8485\n",
      "Epoch 72/100\n",
      "13/13 [==============================] - 0s 6ms/step - loss: 0.4771 - accuracy: 0.7959 - val_loss: 0.4666 - val_accuracy: 0.8283\n",
      "Epoch 73/100\n",
      "13/13 [==============================] - 0s 5ms/step - loss: 0.4788 - accuracy: 0.8010 - val_loss: 0.4827 - val_accuracy: 0.7879\n",
      "Epoch 74/100\n",
      "13/13 [==============================] - 0s 7ms/step - loss: 0.4792 - accuracy: 0.7985 - val_loss: 0.4634 - val_accuracy: 0.8384\n",
      "Epoch 75/100\n",
      "13/13 [==============================] - 0s 7ms/step - loss: 0.4825 - accuracy: 0.7908 - val_loss: 0.4587 - val_accuracy: 0.8485\n",
      "Epoch 76/100\n",
      "13/13 [==============================] - 0s 8ms/step - loss: 0.4742 - accuracy: 0.7985 - val_loss: 0.4559 - val_accuracy: 0.8485\n",
      "Epoch 77/100\n",
      "13/13 [==============================] - 0s 5ms/step - loss: 0.4817 - accuracy: 0.8010 - val_loss: 0.4472 - val_accuracy: 0.8485\n",
      "Epoch 78/100\n",
      "13/13 [==============================] - 0s 6ms/step - loss: 0.4775 - accuracy: 0.8036 - val_loss: 0.4510 - val_accuracy: 0.8485\n",
      "Epoch 79/100\n",
      "13/13 [==============================] - 0s 5ms/step - loss: 0.4802 - accuracy: 0.7985 - val_loss: 0.4490 - val_accuracy: 0.8283\n",
      "Epoch 80/100\n",
      "13/13 [==============================] - 0s 8ms/step - loss: 0.4795 - accuracy: 0.8061 - val_loss: 0.4565 - val_accuracy: 0.8485\n",
      "Epoch 81/100\n",
      "13/13 [==============================] - 0s 7ms/step - loss: 0.4808 - accuracy: 0.7959 - val_loss: 0.4555 - val_accuracy: 0.8384\n",
      "Epoch 82/100\n",
      "13/13 [==============================] - 0s 9ms/step - loss: 0.4761 - accuracy: 0.8061 - val_loss: 0.4712 - val_accuracy: 0.8485\n",
      "Epoch 83/100\n",
      "13/13 [==============================] - 0s 8ms/step - loss: 0.4783 - accuracy: 0.8036 - val_loss: 0.4465 - val_accuracy: 0.8485\n",
      "Epoch 84/100\n",
      "13/13 [==============================] - 0s 8ms/step - loss: 0.4822 - accuracy: 0.7985 - val_loss: 0.4532 - val_accuracy: 0.8283\n",
      "Epoch 85/100\n",
      "13/13 [==============================] - 0s 7ms/step - loss: 0.4772 - accuracy: 0.8010 - val_loss: 0.4523 - val_accuracy: 0.8485\n",
      "Epoch 86/100\n",
      "13/13 [==============================] - 0s 7ms/step - loss: 0.4778 - accuracy: 0.7985 - val_loss: 0.4531 - val_accuracy: 0.8384\n",
      "Epoch 87/100\n",
      "13/13 [==============================] - 0s 9ms/step - loss: 0.4803 - accuracy: 0.8010 - val_loss: 0.4656 - val_accuracy: 0.8283\n",
      "Epoch 88/100\n",
      "13/13 [==============================] - 0s 10ms/step - loss: 0.4797 - accuracy: 0.7934 - val_loss: 0.4515 - val_accuracy: 0.8485\n",
      "Epoch 89/100\n",
      "13/13 [==============================] - 0s 6ms/step - loss: 0.4759 - accuracy: 0.7985 - val_loss: 0.4597 - val_accuracy: 0.8283\n",
      "Epoch 90/100\n",
      "13/13 [==============================] - 0s 9ms/step - loss: 0.4782 - accuracy: 0.7908 - val_loss: 0.4631 - val_accuracy: 0.8485\n",
      "Epoch 91/100\n",
      "13/13 [==============================] - 0s 8ms/step - loss: 0.4788 - accuracy: 0.7985 - val_loss: 0.4512 - val_accuracy: 0.8485\n",
      "Epoch 92/100\n",
      "13/13 [==============================] - 0s 6ms/step - loss: 0.4771 - accuracy: 0.7959 - val_loss: 0.4545 - val_accuracy: 0.8485\n",
      "Epoch 93/100\n",
      "13/13 [==============================] - 0s 8ms/step - loss: 0.4822 - accuracy: 0.8010 - val_loss: 0.4506 - val_accuracy: 0.8384\n",
      "Epoch 94/100\n",
      "13/13 [==============================] - 0s 9ms/step - loss: 0.4814 - accuracy: 0.7959 - val_loss: 0.4510 - val_accuracy: 0.8485\n",
      "Epoch 95/100\n",
      "13/13 [==============================] - 0s 8ms/step - loss: 0.4779 - accuracy: 0.8010 - val_loss: 0.4581 - val_accuracy: 0.8384\n",
      "Epoch 96/100\n",
      "13/13 [==============================] - 0s 6ms/step - loss: 0.4757 - accuracy: 0.7934 - val_loss: 0.4474 - val_accuracy: 0.8485\n",
      "Epoch 97/100\n",
      "13/13 [==============================] - 0s 7ms/step - loss: 0.4758 - accuracy: 0.8010 - val_loss: 0.4745 - val_accuracy: 0.7980\n",
      "Epoch 98/100\n",
      "13/13 [==============================] - 0s 9ms/step - loss: 0.4788 - accuracy: 0.7908 - val_loss: 0.4414 - val_accuracy: 0.8485\n",
      "Epoch 99/100\n",
      "13/13 [==============================] - 0s 8ms/step - loss: 0.4816 - accuracy: 0.7959 - val_loss: 0.4428 - val_accuracy: 0.8485\n",
      "Epoch 100/100\n",
      "13/13 [==============================] - 0s 9ms/step - loss: 0.4790 - accuracy: 0.7959 - val_loss: 0.4425 - val_accuracy: 0.8485\n"
     ]
    }
   ],
   "source": [
    "model = nn.fit(xtrain,ytrain,epochs=100,validation_split=0.2)"
   ]
  },
  {
   "cell_type": "markdown",
   "id": "704567e6",
   "metadata": {},
   "source": [
    "# Check Overfitting"
   ]
  },
  {
   "cell_type": "code",
   "execution_count": 42,
   "id": "559690e8",
   "metadata": {},
   "outputs": [],
   "source": [
    "from sklearn.metrics import accuracy_score\n",
    "\n",
    "pred_tr = []\n",
    "for i in nn.predict(xtrain):\n",
    "    if(i[0] < 0.5):\n",
    "        pred_tr.append(0)\n",
    "    else:\n",
    "        pred_tr.append(1)\n",
    "        "
   ]
  },
  {
   "cell_type": "code",
   "execution_count": 43,
   "id": "28084881",
   "metadata": {},
   "outputs": [],
   "source": [
    "pred_ts = []\n",
    "for i in nn.predict(xtest):\n",
    "    if(i[0] < 0.5):\n",
    "        pred_ts.append(0)\n",
    "    else:\n",
    "        pred_ts.append(1)"
   ]
  },
  {
   "cell_type": "code",
   "execution_count": 44,
   "id": "53c01b95",
   "metadata": {},
   "outputs": [],
   "source": [
    "acc_tr = accuracy_score(ytrain,pred_tr)\n",
    "acc_ts = accuracy_score(ytest,pred_ts)"
   ]
  },
  {
   "cell_type": "code",
   "execution_count": 45,
   "id": "746eea9e",
   "metadata": {},
   "outputs": [
    {
     "data": {
      "text/plain": [
       "0.8085539714867617"
      ]
     },
     "execution_count": 45,
     "metadata": {},
     "output_type": "execute_result"
    }
   ],
   "source": [
    "acc_tr"
   ]
  },
  {
   "cell_type": "code",
   "execution_count": 46,
   "id": "ddeef3b6",
   "metadata": {},
   "outputs": [
    {
     "data": {
      "text/plain": [
       "0.8211382113821138"
      ]
     },
     "execution_count": 46,
     "metadata": {},
     "output_type": "execute_result"
    }
   ],
   "source": [
    "acc_ts"
   ]
  },
  {
   "cell_type": "markdown",
   "id": "8b99e72b",
   "metadata": {},
   "source": [
    "# Create a model with dropout layer we can specify the dropout segment "
   ]
  },
  {
   "cell_type": "code",
   "execution_count": 47,
   "id": "21352f0c",
   "metadata": {},
   "outputs": [],
   "source": [
    "nn1 = Sequential()\n",
    "nn1.add(Dense(200,input_dim=(20)))\n",
    "nn1.add(Dense(200))\n",
    "nn1.add(Dropout(0.1))\n",
    "nn1.add(Dense(200))\n",
    "nn1.add(Dropout(0.1))\n",
    "nn1.add(Dense(1,activation=\"sigmoid\"))"
   ]
  },
  {
   "cell_type": "code",
   "execution_count": 48,
   "id": "52c1c83a",
   "metadata": {},
   "outputs": [
    {
     "name": "stdout",
     "output_type": "stream",
     "text": [
      "Epoch 1/100\n",
      " 1/13 [=>............................] - ETA: 0s - loss: 0.6769 - accuracy: 0.5625WARNING:tensorflow:Callbacks method `on_train_batch_end` is slow compared to the batch time (batch time: 0.0000s vs `on_train_batch_end` time: 0.0145s). Check your callbacks.\n",
      "13/13 [==============================] - 0s 36ms/step - loss: 0.6049 - accuracy: 0.7372 - val_loss: 0.4519 - val_accuracy: 0.8485\n",
      "Epoch 2/100\n",
      "13/13 [==============================] - 0s 6ms/step - loss: 0.5311 - accuracy: 0.7832 - val_loss: 0.4970 - val_accuracy: 0.7879\n",
      "Epoch 3/100\n",
      "13/13 [==============================] - 0s 8ms/step - loss: 0.5208 - accuracy: 0.7755 - val_loss: 0.4397 - val_accuracy: 0.8485\n",
      "Epoch 4/100\n",
      "13/13 [==============================] - 0s 7ms/step - loss: 0.5215 - accuracy: 0.7857 - val_loss: 0.4823 - val_accuracy: 0.8384\n",
      "Epoch 5/100\n",
      "13/13 [==============================] - 0s 7ms/step - loss: 0.5010 - accuracy: 0.8010 - val_loss: 0.4911 - val_accuracy: 0.7879\n",
      "Epoch 6/100\n",
      "13/13 [==============================] - 0s 8ms/step - loss: 0.5293 - accuracy: 0.7806 - val_loss: 0.4686 - val_accuracy: 0.8081\n",
      "Epoch 7/100\n",
      "13/13 [==============================] - 0s 8ms/step - loss: 0.5188 - accuracy: 0.7628 - val_loss: 0.4687 - val_accuracy: 0.8384\n",
      "Epoch 8/100\n",
      "13/13 [==============================] - 0s 7ms/step - loss: 0.4903 - accuracy: 0.7959 - val_loss: 0.4671 - val_accuracy: 0.8485\n",
      "Epoch 9/100\n",
      "13/13 [==============================] - 0s 9ms/step - loss: 0.5039 - accuracy: 0.7934 - val_loss: 0.4539 - val_accuracy: 0.8485\n",
      "Epoch 10/100\n",
      "13/13 [==============================] - 0s 8ms/step - loss: 0.5019 - accuracy: 0.7959 - val_loss: 0.4665 - val_accuracy: 0.8283\n",
      "Epoch 11/100\n",
      "13/13 [==============================] - 0s 8ms/step - loss: 0.4966 - accuracy: 0.7857 - val_loss: 0.5073 - val_accuracy: 0.7677\n",
      "Epoch 12/100\n",
      "13/13 [==============================] - 0s 16ms/step - loss: 0.5096 - accuracy: 0.7730 - val_loss: 0.5180 - val_accuracy: 0.7778\n",
      "Epoch 13/100\n",
      "13/13 [==============================] - 0s 10ms/step - loss: 0.5012 - accuracy: 0.7857 - val_loss: 0.4619 - val_accuracy: 0.8485\n",
      "Epoch 14/100\n",
      "13/13 [==============================] - 0s 5ms/step - loss: 0.5020 - accuracy: 0.7908 - val_loss: 0.4582 - val_accuracy: 0.8081\n",
      "Epoch 15/100\n",
      "13/13 [==============================] - 0s 6ms/step - loss: 0.4879 - accuracy: 0.7755 - val_loss: 0.5178 - val_accuracy: 0.8485\n",
      "Epoch 16/100\n",
      "13/13 [==============================] - 0s 8ms/step - loss: 0.5112 - accuracy: 0.7857 - val_loss: 0.5241 - val_accuracy: 0.7475\n",
      "Epoch 17/100\n",
      "13/13 [==============================] - 0s 6ms/step - loss: 0.5126 - accuracy: 0.7755 - val_loss: 0.4473 - val_accuracy: 0.8384\n",
      "Epoch 18/100\n",
      "13/13 [==============================] - 0s 6ms/step - loss: 0.5045 - accuracy: 0.7857 - val_loss: 0.4371 - val_accuracy: 0.8384\n",
      "Epoch 19/100\n",
      "13/13 [==============================] - 0s 8ms/step - loss: 0.4847 - accuracy: 0.7959 - val_loss: 0.4774 - val_accuracy: 0.8283\n",
      "Epoch 20/100\n",
      "13/13 [==============================] - 0s 8ms/step - loss: 0.5072 - accuracy: 0.7857 - val_loss: 0.4632 - val_accuracy: 0.8485\n",
      "Epoch 21/100\n",
      "13/13 [==============================] - 0s 7ms/step - loss: 0.4999 - accuracy: 0.7934 - val_loss: 0.4904 - val_accuracy: 0.8081\n",
      "Epoch 22/100\n",
      "13/13 [==============================] - 0s 7ms/step - loss: 0.5005 - accuracy: 0.7934 - val_loss: 0.4624 - val_accuracy: 0.8485\n",
      "Epoch 23/100\n",
      "13/13 [==============================] - 0s 6ms/step - loss: 0.4970 - accuracy: 0.7832 - val_loss: 0.4431 - val_accuracy: 0.8485\n",
      "Epoch 24/100\n",
      "13/13 [==============================] - 0s 8ms/step - loss: 0.4906 - accuracy: 0.7908 - val_loss: 0.4587 - val_accuracy: 0.8485\n",
      "Epoch 25/100\n",
      "13/13 [==============================] - 0s 7ms/step - loss: 0.4973 - accuracy: 0.7985 - val_loss: 0.4328 - val_accuracy: 0.8485\n",
      "Epoch 26/100\n",
      "13/13 [==============================] - 0s 8ms/step - loss: 0.4952 - accuracy: 0.7908 - val_loss: 0.4575 - val_accuracy: 0.8485\n",
      "Epoch 27/100\n",
      "13/13 [==============================] - 0s 7ms/step - loss: 0.5069 - accuracy: 0.7934 - val_loss: 0.4586 - val_accuracy: 0.8485\n",
      "Epoch 28/100\n",
      "13/13 [==============================] - 0s 8ms/step - loss: 0.4939 - accuracy: 0.7832 - val_loss: 0.4488 - val_accuracy: 0.8485\n",
      "Epoch 29/100\n",
      "13/13 [==============================] - 0s 7ms/step - loss: 0.4920 - accuracy: 0.7832 - val_loss: 0.4791 - val_accuracy: 0.8081\n",
      "Epoch 30/100\n",
      "13/13 [==============================] - 0s 7ms/step - loss: 0.4927 - accuracy: 0.7959 - val_loss: 0.4514 - val_accuracy: 0.8384\n",
      "Epoch 31/100\n",
      "13/13 [==============================] - 0s 8ms/step - loss: 0.4952 - accuracy: 0.7934 - val_loss: 0.4627 - val_accuracy: 0.8384\n",
      "Epoch 32/100\n",
      "13/13 [==============================] - 0s 8ms/step - loss: 0.4986 - accuracy: 0.7883 - val_loss: 0.4718 - val_accuracy: 0.8485\n",
      "Epoch 33/100\n",
      "13/13 [==============================] - 0s 8ms/step - loss: 0.4869 - accuracy: 0.7959 - val_loss: 0.5063 - val_accuracy: 0.8182\n",
      "Epoch 34/100\n",
      "13/13 [==============================] - ETA: 0s - loss: 0.5404 - accuracy: 0.81 - 0s 7ms/step - loss: 0.5006 - accuracy: 0.7883 - val_loss: 0.4578 - val_accuracy: 0.8384\n",
      "Epoch 35/100\n",
      "13/13 [==============================] - 0s 9ms/step - loss: 0.4911 - accuracy: 0.8010 - val_loss: 0.4767 - val_accuracy: 0.8182\n",
      "Epoch 36/100\n",
      "13/13 [==============================] - 0s 7ms/step - loss: 0.4882 - accuracy: 0.7857 - val_loss: 0.4714 - val_accuracy: 0.8182\n",
      "Epoch 37/100\n",
      "13/13 [==============================] - 0s 6ms/step - loss: 0.4901 - accuracy: 0.7857 - val_loss: 0.4454 - val_accuracy: 0.8485\n",
      "Epoch 38/100\n",
      "13/13 [==============================] - 0s 7ms/step - loss: 0.4954 - accuracy: 0.7934 - val_loss: 0.4769 - val_accuracy: 0.8384\n",
      "Epoch 39/100\n",
      "13/13 [==============================] - 0s 8ms/step - loss: 0.4880 - accuracy: 0.7934 - val_loss: 0.5047 - val_accuracy: 0.7980\n",
      "Epoch 40/100\n",
      "13/13 [==============================] - 0s 8ms/step - loss: 0.4907 - accuracy: 0.7730 - val_loss: 0.4596 - val_accuracy: 0.8182\n",
      "Epoch 41/100\n",
      "13/13 [==============================] - 0s 8ms/step - loss: 0.4873 - accuracy: 0.7908 - val_loss: 0.4653 - val_accuracy: 0.8182\n",
      "Epoch 42/100\n",
      "13/13 [==============================] - 0s 8ms/step - loss: 0.5014 - accuracy: 0.7959 - val_loss: 0.4749 - val_accuracy: 0.8081\n",
      "Epoch 43/100\n",
      "13/13 [==============================] - 0s 14ms/step - loss: 0.4860 - accuracy: 0.8010 - val_loss: 0.4570 - val_accuracy: 0.8384\n",
      "Epoch 44/100\n",
      "13/13 [==============================] - 0s 7ms/step - loss: 0.5011 - accuracy: 0.7959 - val_loss: 0.4540 - val_accuracy: 0.8283\n",
      "Epoch 45/100\n",
      "13/13 [==============================] - 0s 7ms/step - loss: 0.4808 - accuracy: 0.7934 - val_loss: 0.4520 - val_accuracy: 0.8485\n",
      "Epoch 46/100\n",
      "13/13 [==============================] - 0s 6ms/step - loss: 0.4863 - accuracy: 0.7985 - val_loss: 0.4756 - val_accuracy: 0.7980\n",
      "Epoch 47/100\n",
      "13/13 [==============================] - 0s 7ms/step - loss: 0.4955 - accuracy: 0.7883 - val_loss: 0.4785 - val_accuracy: 0.8182\n",
      "Epoch 48/100\n",
      "13/13 [==============================] - 0s 8ms/step - loss: 0.4981 - accuracy: 0.8010 - val_loss: 0.4522 - val_accuracy: 0.8485\n",
      "Epoch 49/100\n",
      "13/13 [==============================] - 0s 8ms/step - loss: 0.4937 - accuracy: 0.7985 - val_loss: 0.4451 - val_accuracy: 0.8485\n",
      "Epoch 50/100\n",
      "13/13 [==============================] - 0s 8ms/step - loss: 0.4858 - accuracy: 0.8010 - val_loss: 0.4516 - val_accuracy: 0.8384\n",
      "Epoch 51/100\n",
      "13/13 [==============================] - 0s 8ms/step - loss: 0.4980 - accuracy: 0.8010 - val_loss: 0.4449 - val_accuracy: 0.8384\n",
      "Epoch 52/100\n",
      "13/13 [==============================] - 0s 8ms/step - loss: 0.4879 - accuracy: 0.7934 - val_loss: 0.4474 - val_accuracy: 0.8485\n",
      "Epoch 53/100\n",
      "13/13 [==============================] - 0s 6ms/step - loss: 0.4908 - accuracy: 0.7832 - val_loss: 0.4494 - val_accuracy: 0.8384\n",
      "Epoch 54/100\n",
      "13/13 [==============================] - 0s 7ms/step - loss: 0.4884 - accuracy: 0.7985 - val_loss: 0.4812 - val_accuracy: 0.8182\n",
      "Epoch 55/100\n",
      "13/13 [==============================] - 0s 8ms/step - loss: 0.4855 - accuracy: 0.7908 - val_loss: 0.4627 - val_accuracy: 0.8384\n",
      "Epoch 56/100\n",
      "13/13 [==============================] - 0s 7ms/step - loss: 0.4875 - accuracy: 0.7959 - val_loss: 0.4486 - val_accuracy: 0.8485\n",
      "Epoch 57/100\n",
      "13/13 [==============================] - 0s 7ms/step - loss: 0.4905 - accuracy: 0.7857 - val_loss: 0.4539 - val_accuracy: 0.8485\n",
      "Epoch 58/100\n",
      "13/13 [==============================] - 0s 7ms/step - loss: 0.4872 - accuracy: 0.7883 - val_loss: 0.4700 - val_accuracy: 0.8384\n",
      "Epoch 59/100\n",
      "13/13 [==============================] - 0s 7ms/step - loss: 0.4875 - accuracy: 0.7959 - val_loss: 0.4795 - val_accuracy: 0.8485\n",
      "Epoch 60/100\n",
      "13/13 [==============================] - 0s 8ms/step - loss: 0.4870 - accuracy: 0.7857 - val_loss: 0.4582 - val_accuracy: 0.8485\n",
      "Epoch 61/100\n",
      "13/13 [==============================] - 0s 7ms/step - loss: 0.4818 - accuracy: 0.7908 - val_loss: 0.4492 - val_accuracy: 0.8485\n",
      "Epoch 62/100\n",
      "13/13 [==============================] - 0s 6ms/step - loss: 0.4820 - accuracy: 0.7908 - val_loss: 0.4713 - val_accuracy: 0.8384\n",
      "Epoch 63/100\n",
      "13/13 [==============================] - 0s 6ms/step - loss: 0.4869 - accuracy: 0.7959 - val_loss: 0.4468 - val_accuracy: 0.8485\n",
      "Epoch 64/100\n",
      "13/13 [==============================] - 0s 7ms/step - loss: 0.4814 - accuracy: 0.7908 - val_loss: 0.4621 - val_accuracy: 0.8283\n",
      "Epoch 65/100\n",
      "13/13 [==============================] - 0s 8ms/step - loss: 0.4877 - accuracy: 0.7908 - val_loss: 0.4722 - val_accuracy: 0.7879\n",
      "Epoch 66/100\n",
      "13/13 [==============================] - 0s 7ms/step - loss: 0.4872 - accuracy: 0.7985 - val_loss: 0.4651 - val_accuracy: 0.8384\n",
      "Epoch 67/100\n",
      "13/13 [==============================] - 0s 8ms/step - loss: 0.4939 - accuracy: 0.7934 - val_loss: 0.4613 - val_accuracy: 0.8384\n",
      "Epoch 68/100\n",
      "13/13 [==============================] - 0s 7ms/step - loss: 0.4872 - accuracy: 0.7934 - val_loss: 0.4474 - val_accuracy: 0.8384\n",
      "Epoch 69/100\n",
      "13/13 [==============================] - 0s 7ms/step - loss: 0.4877 - accuracy: 0.7959 - val_loss: 0.4450 - val_accuracy: 0.8384\n",
      "Epoch 70/100\n",
      "13/13 [==============================] - 0s 7ms/step - loss: 0.4844 - accuracy: 0.8010 - val_loss: 0.4525 - val_accuracy: 0.8283\n",
      "Epoch 71/100\n",
      "13/13 [==============================] - 0s 7ms/step - loss: 0.4837 - accuracy: 0.7883 - val_loss: 0.4348 - val_accuracy: 0.8283\n",
      "Epoch 72/100\n",
      "13/13 [==============================] - 0s 7ms/step - loss: 0.4853 - accuracy: 0.7959 - val_loss: 0.4562 - val_accuracy: 0.8283\n",
      "Epoch 73/100\n",
      "13/13 [==============================] - 0s 6ms/step - loss: 0.4929 - accuracy: 0.7934 - val_loss: 0.4599 - val_accuracy: 0.8182\n",
      "Epoch 74/100\n",
      "13/13 [==============================] - 0s 6ms/step - loss: 0.4829 - accuracy: 0.7857 - val_loss: 0.4503 - val_accuracy: 0.8485\n",
      "Epoch 75/100\n",
      "13/13 [==============================] - 0s 7ms/step - loss: 0.4872 - accuracy: 0.7934 - val_loss: 0.4612 - val_accuracy: 0.8485\n",
      "Epoch 76/100\n",
      "13/13 [==============================] - 0s 7ms/step - loss: 0.4863 - accuracy: 0.7985 - val_loss: 0.4613 - val_accuracy: 0.8283\n",
      "Epoch 77/100\n",
      "13/13 [==============================] - 0s 7ms/step - loss: 0.4789 - accuracy: 0.7934 - val_loss: 0.4660 - val_accuracy: 0.8384\n",
      "Epoch 78/100\n",
      "13/13 [==============================] - 0s 7ms/step - loss: 0.4867 - accuracy: 0.8061 - val_loss: 0.4540 - val_accuracy: 0.8485\n",
      "Epoch 79/100\n",
      "13/13 [==============================] - 0s 6ms/step - loss: 0.4872 - accuracy: 0.7934 - val_loss: 0.4529 - val_accuracy: 0.8283\n",
      "Epoch 80/100\n",
      "13/13 [==============================] - 0s 8ms/step - loss: 0.4899 - accuracy: 0.8010 - val_loss: 0.4738 - val_accuracy: 0.7879\n",
      "Epoch 81/100\n",
      "13/13 [==============================] - 0s 7ms/step - loss: 0.4830 - accuracy: 0.7934 - val_loss: 0.4675 - val_accuracy: 0.8283\n",
      "Epoch 82/100\n",
      "13/13 [==============================] - 0s 8ms/step - loss: 0.4926 - accuracy: 0.7908 - val_loss: 0.4700 - val_accuracy: 0.8283\n",
      "Epoch 83/100\n",
      "13/13 [==============================] - 0s 7ms/step - loss: 0.4858 - accuracy: 0.7959 - val_loss: 0.4531 - val_accuracy: 0.8485\n",
      "Epoch 84/100\n",
      "13/13 [==============================] - 0s 7ms/step - loss: 0.4870 - accuracy: 0.7985 - val_loss: 0.4621 - val_accuracy: 0.8384\n",
      "Epoch 85/100\n",
      "13/13 [==============================] - 0s 8ms/step - loss: 0.4869 - accuracy: 0.7959 - val_loss: 0.4634 - val_accuracy: 0.8384\n",
      "Epoch 86/100\n",
      "13/13 [==============================] - 0s 7ms/step - loss: 0.4788 - accuracy: 0.7908 - val_loss: 0.4625 - val_accuracy: 0.8485\n",
      "Epoch 87/100\n",
      "13/13 [==============================] - 0s 6ms/step - loss: 0.4816 - accuracy: 0.7908 - val_loss: 0.4470 - val_accuracy: 0.8384\n",
      "Epoch 88/100\n",
      "13/13 [==============================] - 0s 7ms/step - loss: 0.4892 - accuracy: 0.7883 - val_loss: 0.4606 - val_accuracy: 0.8384\n",
      "Epoch 89/100\n",
      "13/13 [==============================] - 0s 7ms/step - loss: 0.4830 - accuracy: 0.7959 - val_loss: 0.4614 - val_accuracy: 0.8384\n",
      "Epoch 90/100\n",
      "13/13 [==============================] - 0s 7ms/step - loss: 0.4863 - accuracy: 0.7934 - val_loss: 0.4687 - val_accuracy: 0.8283\n",
      "Epoch 91/100\n",
      "13/13 [==============================] - 0s 7ms/step - loss: 0.4810 - accuracy: 0.7857 - val_loss: 0.4676 - val_accuracy: 0.8384\n",
      "Epoch 92/100\n",
      "13/13 [==============================] - 0s 7ms/step - loss: 0.4872 - accuracy: 0.7959 - val_loss: 0.4473 - val_accuracy: 0.8485\n",
      "Epoch 93/100\n",
      "13/13 [==============================] - 0s 7ms/step - loss: 0.4821 - accuracy: 0.8061 - val_loss: 0.4606 - val_accuracy: 0.8485\n",
      "Epoch 94/100\n",
      "13/13 [==============================] - 0s 7ms/step - loss: 0.4833 - accuracy: 0.7934 - val_loss: 0.4604 - val_accuracy: 0.8283\n",
      "Epoch 95/100\n",
      "13/13 [==============================] - 0s 7ms/step - loss: 0.4808 - accuracy: 0.7985 - val_loss: 0.4533 - val_accuracy: 0.8384\n",
      "Epoch 96/100\n",
      "13/13 [==============================] - 0s 6ms/step - loss: 0.4805 - accuracy: 0.7934 - val_loss: 0.4550 - val_accuracy: 0.8485\n",
      "Epoch 97/100\n",
      "13/13 [==============================] - 0s 7ms/step - loss: 0.4899 - accuracy: 0.7959 - val_loss: 0.4627 - val_accuracy: 0.8485\n",
      "Epoch 98/100\n",
      "13/13 [==============================] - 0s 7ms/step - loss: 0.4825 - accuracy: 0.8010 - val_loss: 0.4532 - val_accuracy: 0.8485\n",
      "Epoch 99/100\n",
      "13/13 [==============================] - 0s 7ms/step - loss: 0.4778 - accuracy: 0.8010 - val_loss: 0.4622 - val_accuracy: 0.8384\n",
      "Epoch 100/100\n",
      "13/13 [==============================] - 0s 7ms/step - loss: 0.4842 - accuracy: 0.7985 - val_loss: 0.4492 - val_accuracy: 0.8485\n"
     ]
    }
   ],
   "source": [
    "nn1.compile(loss = \"binary_crossentropy\",metrics=[\"accuracy\"])\n",
    "model1 = nn1.fit(xtrain,ytrain,epochs=100,validation_split=0.2)"
   ]
  },
  {
   "cell_type": "code",
   "execution_count": 49,
   "id": "e2956019",
   "metadata": {},
   "outputs": [],
   "source": [
    "from sklearn.metrics import accuracy_score\n",
    "\n",
    "pred_tr = []\n",
    "for i in nn1.predict(xtrain):\n",
    "    if(i[0] < 0.5):\n",
    "        pred_tr.append(0)\n",
    "    else:\n",
    "        pred_tr.append(1)\n",
    "        \n",
    "pred_ts = []\n",
    "for i in nn1.predict(xtest):\n",
    "    if(i[0] < 0.5):\n",
    "        pred_ts.append(0)\n",
    "    else:\n",
    "        pred_ts.append(1)"
   ]
  },
  {
   "cell_type": "code",
   "execution_count": 50,
   "id": "d0d7b30d",
   "metadata": {},
   "outputs": [],
   "source": [
    "acc_tr = accuracy_score(ytrain,pred_tr)\n",
    "acc_ts = accuracy_score(ytest,pred_ts)"
   ]
  },
  {
   "cell_type": "code",
   "execution_count": 51,
   "id": "9b3e21af",
   "metadata": {},
   "outputs": [
    {
     "data": {
      "text/plain": [
       "0.814663951120163"
      ]
     },
     "execution_count": 51,
     "metadata": {},
     "output_type": "execute_result"
    }
   ],
   "source": [
    "acc_tr"
   ]
  },
  {
   "cell_type": "code",
   "execution_count": 52,
   "id": "93fc086b",
   "metadata": {},
   "outputs": [
    {
     "data": {
      "text/plain": [
       "0.8211382113821138"
      ]
     },
     "execution_count": 52,
     "metadata": {},
     "output_type": "execute_result"
    }
   ],
   "source": [
    "acc_ts"
   ]
  },
  {
   "cell_type": "markdown",
   "id": "afc3df6a",
   "metadata": {},
   "source": [
    "# Configure early stopping"
   ]
  },
  {
   "cell_type": "code",
   "execution_count": 53,
   "id": "458d1ebd",
   "metadata": {},
   "outputs": [
    {
     "name": "stdout",
     "output_type": "stream",
     "text": [
      "Epoch 1/1000\n",
      "13/13 [==============================] - 0s 33ms/step - loss: 0.6332 - accuracy: 0.6990 - val_loss: 0.4284 - val_accuracy: 0.8485\n",
      "Epoch 2/1000\n",
      "13/13 [==============================] - 0s 7ms/step - loss: 0.5050 - accuracy: 0.7883 - val_loss: 0.4350 - val_accuracy: 0.8384\n",
      "Epoch 3/1000\n",
      "13/13 [==============================] - 0s 7ms/step - loss: 0.5288 - accuracy: 0.7730 - val_loss: 0.4715 - val_accuracy: 0.8283\n",
      "Epoch 4/1000\n",
      "13/13 [==============================] - 0s 6ms/step - loss: 0.5127 - accuracy: 0.7781 - val_loss: 0.4453 - val_accuracy: 0.8384\n",
      "Epoch 5/1000\n",
      "13/13 [==============================] - 0s 6ms/step - loss: 0.5171 - accuracy: 0.7730 - val_loss: 0.4702 - val_accuracy: 0.8283\n",
      "Epoch 6/1000\n",
      "13/13 [==============================] - 0s 7ms/step - loss: 0.5103 - accuracy: 0.7679 - val_loss: 0.4544 - val_accuracy: 0.8485\n",
      "Epoch 7/1000\n",
      "13/13 [==============================] - 0s 7ms/step - loss: 0.4931 - accuracy: 0.7934 - val_loss: 0.4506 - val_accuracy: 0.8485\n",
      "Epoch 8/1000\n",
      "13/13 [==============================] - 0s 7ms/step - loss: 0.5068 - accuracy: 0.7832 - val_loss: 0.4470 - val_accuracy: 0.8283\n",
      "Epoch 9/1000\n",
      "13/13 [==============================] - 0s 9ms/step - loss: 0.5019 - accuracy: 0.8010 - val_loss: 0.5005 - val_accuracy: 0.7879\n",
      "Epoch 10/1000\n",
      "13/13 [==============================] - 0s 7ms/step - loss: 0.5151 - accuracy: 0.7781 - val_loss: 0.4303 - val_accuracy: 0.8485\n",
      "Epoch 11/1000\n",
      "13/13 [==============================] - 0s 6ms/step - loss: 0.5057 - accuracy: 0.7832 - val_loss: 0.4587 - val_accuracy: 0.8485\n",
      "Epoch 12/1000\n",
      "13/13 [==============================] - 0s 7ms/step - loss: 0.5001 - accuracy: 0.7959 - val_loss: 0.4545 - val_accuracy: 0.8485\n",
      "Epoch 13/1000\n",
      "13/13 [==============================] - 0s 8ms/step - loss: 0.5135 - accuracy: 0.7806 - val_loss: 0.4613 - val_accuracy: 0.8182\n",
      "Epoch 14/1000\n",
      "13/13 [==============================] - 0s 7ms/step - loss: 0.4914 - accuracy: 0.7959 - val_loss: 0.4684 - val_accuracy: 0.7980\n",
      "Epoch 15/1000\n",
      "13/13 [==============================] - 0s 6ms/step - loss: 0.5074 - accuracy: 0.7883 - val_loss: 0.4630 - val_accuracy: 0.7980\n",
      "Epoch 16/1000\n",
      "13/13 [==============================] - 0s 7ms/step - loss: 0.5017 - accuracy: 0.7883 - val_loss: 0.4654 - val_accuracy: 0.8182\n",
      "Epoch 17/1000\n",
      "13/13 [==============================] - 0s 7ms/step - loss: 0.5026 - accuracy: 0.7908 - val_loss: 0.4805 - val_accuracy: 0.8485\n",
      "Epoch 18/1000\n",
      "13/13 [==============================] - 0s 8ms/step - loss: 0.4924 - accuracy: 0.7883 - val_loss: 0.5106 - val_accuracy: 0.7677\n",
      "Epoch 19/1000\n",
      "13/13 [==============================] - 0s 8ms/step - loss: 0.4929 - accuracy: 0.7857 - val_loss: 0.4804 - val_accuracy: 0.8283\n",
      "Epoch 20/1000\n",
      "13/13 [==============================] - 0s 8ms/step - loss: 0.5035 - accuracy: 0.7832 - val_loss: 0.4655 - val_accuracy: 0.8283\n",
      "Epoch 21/1000\n",
      "13/13 [==============================] - 0s 8ms/step - loss: 0.5075 - accuracy: 0.7832 - val_loss: 0.4352 - val_accuracy: 0.8384\n",
      "Epoch 22/1000\n",
      "13/13 [==============================] - 0s 7ms/step - loss: 0.4979 - accuracy: 0.7883 - val_loss: 0.4496 - val_accuracy: 0.8485\n",
      "Epoch 23/1000\n",
      "13/13 [==============================] - 0s 6ms/step - loss: 0.4985 - accuracy: 0.7959 - val_loss: 0.4608 - val_accuracy: 0.8485\n",
      "Epoch 24/1000\n",
      "13/13 [==============================] - 0s 6ms/step - loss: 0.4920 - accuracy: 0.7781 - val_loss: 0.4460 - val_accuracy: 0.8485\n",
      "Epoch 25/1000\n",
      "13/13 [==============================] - 0s 7ms/step - loss: 0.4943 - accuracy: 0.7908 - val_loss: 0.4861 - val_accuracy: 0.8384\n",
      "Epoch 26/1000\n",
      "13/13 [==============================] - 0s 7ms/step - loss: 0.4944 - accuracy: 0.7959 - val_loss: 0.4551 - val_accuracy: 0.8283\n",
      "Epoch 27/1000\n",
      "13/13 [==============================] - 0s 7ms/step - loss: 0.5052 - accuracy: 0.7934 - val_loss: 0.4780 - val_accuracy: 0.7879\n",
      "Epoch 28/1000\n",
      "13/13 [==============================] - 0s 7ms/step - loss: 0.5024 - accuracy: 0.7908 - val_loss: 0.4707 - val_accuracy: 0.7778\n",
      "Epoch 29/1000\n",
      "13/13 [==============================] - 0s 8ms/step - loss: 0.5005 - accuracy: 0.7832 - val_loss: 0.4500 - val_accuracy: 0.8384\n",
      "Epoch 30/1000\n",
      "13/13 [==============================] - 0s 7ms/step - loss: 0.4846 - accuracy: 0.7985 - val_loss: 0.4908 - val_accuracy: 0.8081\n",
      "Epoch 31/1000\n",
      "13/13 [==============================] - 0s 7ms/step - loss: 0.4996 - accuracy: 0.7755 - val_loss: 0.4865 - val_accuracy: 0.8485\n",
      "Epoch 32/1000\n",
      "13/13 [==============================] - 0s 8ms/step - loss: 0.4944 - accuracy: 0.7934 - val_loss: 0.5099 - val_accuracy: 0.8081\n",
      "Epoch 33/1000\n",
      "13/13 [==============================] - 0s 6ms/step - loss: 0.4991 - accuracy: 0.7806 - val_loss: 0.4486 - val_accuracy: 0.8485\n",
      "Epoch 34/1000\n",
      "13/13 [==============================] - 0s 6ms/step - loss: 0.4970 - accuracy: 0.7985 - val_loss: 0.4430 - val_accuracy: 0.8485\n",
      "Epoch 35/1000\n",
      "13/13 [==============================] - 0s 6ms/step - loss: 0.4938 - accuracy: 0.7985 - val_loss: 0.4566 - val_accuracy: 0.8485\n",
      "Epoch 36/1000\n",
      "13/13 [==============================] - 0s 6ms/step - loss: 0.5024 - accuracy: 0.7908 - val_loss: 0.4469 - val_accuracy: 0.8384\n",
      "Epoch 37/1000\n",
      "13/13 [==============================] - 0s 7ms/step - loss: 0.4908 - accuracy: 0.7985 - val_loss: 0.4646 - val_accuracy: 0.8283\n",
      "Epoch 38/1000\n",
      "13/13 [==============================] - 0s 7ms/step - loss: 0.4863 - accuracy: 0.7959 - val_loss: 0.4403 - val_accuracy: 0.8485\n",
      "Epoch 39/1000\n",
      "13/13 [==============================] - 0s 7ms/step - loss: 0.4883 - accuracy: 0.7857 - val_loss: 0.4450 - val_accuracy: 0.8283\n",
      "Epoch 40/1000\n",
      "13/13 [==============================] - 0s 7ms/step - loss: 0.4975 - accuracy: 0.7908 - val_loss: 0.4486 - val_accuracy: 0.8485\n",
      "Epoch 41/1000\n",
      "13/13 [==============================] - 0s 7ms/step - loss: 0.4993 - accuracy: 0.8036 - val_loss: 0.4445 - val_accuracy: 0.8384\n",
      "Epoch 42/1000\n",
      "13/13 [==============================] - 0s 8ms/step - loss: 0.4978 - accuracy: 0.7959 - val_loss: 0.4437 - val_accuracy: 0.8485\n",
      "Epoch 43/1000\n",
      "13/13 [==============================] - 0s 6ms/step - loss: 0.4887 - accuracy: 0.7959 - val_loss: 0.4346 - val_accuracy: 0.8485\n",
      "Epoch 44/1000\n",
      "13/13 [==============================] - 0s 6ms/step - loss: 0.4866 - accuracy: 0.7959 - val_loss: 0.4517 - val_accuracy: 0.8485\n",
      "Epoch 45/1000\n",
      "13/13 [==============================] - 0s 7ms/step - loss: 0.4976 - accuracy: 0.7959 - val_loss: 0.4610 - val_accuracy: 0.8485\n",
      "Epoch 46/1000\n",
      "13/13 [==============================] - 0s 6ms/step - loss: 0.4892 - accuracy: 0.7755 - val_loss: 0.4526 - val_accuracy: 0.8485\n",
      "Epoch 47/1000\n",
      "13/13 [==============================] - 0s 6ms/step - loss: 0.4902 - accuracy: 0.7781 - val_loss: 0.4528 - val_accuracy: 0.8485\n",
      "Epoch 48/1000\n",
      "13/13 [==============================] - 0s 7ms/step - loss: 0.4976 - accuracy: 0.7959 - val_loss: 0.4430 - val_accuracy: 0.8384\n",
      "Epoch 49/1000\n",
      "13/13 [==============================] - 0s 7ms/step - loss: 0.4887 - accuracy: 0.7985 - val_loss: 0.4700 - val_accuracy: 0.8081\n",
      "Epoch 50/1000\n",
      "13/13 [==============================] - 0s 7ms/step - loss: 0.4917 - accuracy: 0.7908 - val_loss: 0.4586 - val_accuracy: 0.8384\n",
      "Epoch 51/1000\n",
      "13/13 [==============================] - 0s 7ms/step - loss: 0.4943 - accuracy: 0.7985 - val_loss: 0.4537 - val_accuracy: 0.8485\n"
     ]
    }
   ],
   "source": [
    "from keras.layers import Dense,Dropout\n",
    "from keras.models import Sequential\n",
    "from keras.callbacks import EarlyStopping\n",
    "\n",
    "es = EarlyStopping(patience=50)\n",
    "nn1 = Sequential()\n",
    "nn1.add(Dense(200,input_dim=(20)))\n",
    "nn1.add(Dense(200))\n",
    "nn1.add(Dropout(0.1))\n",
    "nn1.add(Dense(200))\n",
    "nn1.add(Dropout(0.1))\n",
    "nn1.add(Dense(1,activation=\"sigmoid\"))\n",
    "\n",
    "nn1.compile(loss = \"binary_crossentropy\",metrics=[\"accuracy\"])\n",
    "model1 = nn1.fit(xtrain,ytrain,epochs=1000,validation_split=0.2,callbacks=es)"
   ]
  },
  {
   "cell_type": "code",
   "execution_count": 54,
   "id": "df6382a8",
   "metadata": {},
   "outputs": [],
   "source": [
    "from sklearn.metrics import accuracy_score\n",
    "\n",
    "pred_tr = []\n",
    "for i in nn1.predict(xtrain):\n",
    "    if(i[0] < 0.5):\n",
    "        pred_tr.append(0)\n",
    "    else:\n",
    "        pred_tr.append(1)\n",
    "        \n",
    "pred_ts = []\n",
    "for i in nn1.predict(xtest):\n",
    "    if(i[0] < 0.5):\n",
    "        pred_ts.append(0)\n",
    "    else:\n",
    "        pred_ts.append(1)\n",
    "\n",
    "acc_tr = accuracy_score(ytrain,pred_tr)\n",
    "acc_ts = accuracy_score(ytest,pred_ts)"
   ]
  },
  {
   "cell_type": "code",
   "execution_count": 55,
   "id": "e6644543",
   "metadata": {},
   "outputs": [
    {
     "data": {
      "text/plain": [
       "0.8105906313645621"
      ]
     },
     "execution_count": 55,
     "metadata": {},
     "output_type": "execute_result"
    }
   ],
   "source": [
    "acc_tr"
   ]
  },
  {
   "cell_type": "code",
   "execution_count": 56,
   "id": "24aea981",
   "metadata": {},
   "outputs": [
    {
     "data": {
      "text/plain": [
       "0.8292682926829268"
      ]
     },
     "execution_count": 56,
     "metadata": {},
     "output_type": "execute_result"
    }
   ],
   "source": [
    "acc_ts"
   ]
  },
  {
   "cell_type": "code",
   "execution_count": null,
   "id": "64e6ce02",
   "metadata": {},
   "outputs": [],
   "source": []
  }
 ],
 "metadata": {
  "kernelspec": {
   "display_name": "Python 3 (ipykernel)",
   "language": "python",
   "name": "python3"
  },
  "language_info": {
   "codemirror_mode": {
    "name": "ipython",
    "version": 3
   },
   "file_extension": ".py",
   "mimetype": "text/x-python",
   "name": "python",
   "nbconvert_exporter": "python",
   "pygments_lexer": "ipython3",
   "version": "3.7.11"
  }
 },
 "nbformat": 4,
 "nbformat_minor": 5
}
